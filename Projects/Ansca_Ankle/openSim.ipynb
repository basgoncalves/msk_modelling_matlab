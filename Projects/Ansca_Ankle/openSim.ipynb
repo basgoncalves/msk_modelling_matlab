{
 "cells": [
  {
   "cell_type": "code",
   "execution_count": null,
   "metadata": {},
   "outputs": [],
   "source": [
    "import opens"
   ]
  }
 ],
 "metadata": {
  "kernelspec": {
   "display_name": "Python 3.10.8 64-bit",
   "language": "python",
   "name": "python3"
  },
  "language_info": {
   "name": "python",
   "version": "3.10.8"
  },
  "orig_nbformat": 4,
  "vscode": {
   "interpreter": {
    "hash": "ff6112af49b3833da0490db166f9d223de76c8696f7aa6ddf799f267add999df"
   }
  }
 },
 "nbformat": 4,
 "nbformat_minor": 2
}
