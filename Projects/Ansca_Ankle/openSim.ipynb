{
 "cells": [
  {
   "cell_type": "code",
   "execution_count": 21,
   "metadata": {},
   "outputs": [
    {
     "ename": "AttributeError",
     "evalue": "module 'installpkg' has no attribute 'install_opensim_packagess'",
     "output_type": "error",
     "traceback": [
      "\u001b[1;31m---------------------------------------------------------------------------\u001b[0m",
      "\u001b[1;31mAttributeError\u001b[0m                            Traceback (most recent call last)",
      "Cell \u001b[1;32mIn [21], line 4\u001b[0m\n\u001b[0;32m      1\u001b[0m \u001b[39m# https://simtk-confluence.stanford.edu:8443/display/OpenSim/Scripting+in+Python\u001b[39;00m\n\u001b[0;32m      2\u001b[0m \u001b[39mimport\u001b[39;00m \u001b[39minstallpkg\u001b[39;00m\n\u001b[1;32m----> 4\u001b[0m installpkg\u001b[39m.\u001b[39;49minstall_opensim_packagess()\n\u001b[0;32m      6\u001b[0m \u001b[39mimport\u001b[39;00m \u001b[39mos\u001b[39;00m\n\u001b[0;32m      7\u001b[0m \u001b[39mfrom\u001b[39;00m \u001b[39mpathlib\u001b[39;00m \u001b[39mimport\u001b[39;00m Path\n",
      "\u001b[1;31mAttributeError\u001b[0m: module 'installpkg' has no attribute 'install_opensim_packagess'"
     ]
    }
   ],
   "source": [
    "# https://simtk-confluence.stanford.edu:8443/display/OpenSim/Scripting+in+Python\n",
    "import installpkg\n",
    "\n",
    "installpkg.install_opensim_packages()\n",
    "\n",
    "import os\n",
    "from pathlib import Path\n",
    "from tkinter import Tk\n",
    "from tkinter.filedialog import askopenfilename\n",
    "\n",
    "import pandas as pd\n",
    "from pandas.api.types import is_numeric_dtype\n",
    "\n",
    "dirOsim = 'C:/OpenSim 4.4/'\n",
    "dirOsim_bin = dirOsim + '/bin'\n",
    "dirOsim_sdk = dirOsim + '/sdk/Python'\n",
    "os.add_dll_directory(dirOsim + '/bin')\n",
    "os.chdir(dirOsim_sdk)\n",
    "os.system('python setup_win_python38.py')\n",
    "os.system('python -m pip install .')\n",
    "\n",
    "def openFile(filepath):\n",
    "    if not Path(filepath).is_file():                                                         \n",
    "        current_path = os.getcwd()\n",
    "        Tk().withdraw()                                     \n",
    "        filepath = askopenfilename(initialdir=current_path)                                  # if needed ask for user input of CVS file \n",
    "    # try:\n",
    "    #     data = pd.read_csv(filepath)                                                         # load CSV file\n",
    "    # except:\n",
    "    #     print(\"Something went wrong when opening to the file\")\n",
    "    #     print(filepath)\n",
    "    return filepath\n",
    "\n",
    "IDsetup = r'C:\\Users\\Biomech\\Documents\\1-DataFolder\\Ansca_Ankle\\Leg39_Ansca\\ID_setup_anke.xml'\n",
    "\n",
    "IDsetup = openFile(IDsetup)\n",
    "\n",
    "os.system(\"dos('id -S '\" + IDsetup + \",'-echo'\")"
   ]
  },
  {
   "cell_type": "code",
   "execution_count": 19,
   "metadata": {},
   "outputs": [
    {
     "ename": "ImportError",
     "evalue": "DLL load failed while importing _simbody: The specified module could not be found.",
     "output_type": "error",
     "traceback": [
      "\u001b[1;31m---------------------------------------------------------------------------\u001b[0m",
      "\u001b[1;31mImportError\u001b[0m                               Traceback (most recent call last)",
      "Cell \u001b[1;32mIn [19], line 1\u001b[0m\n\u001b[1;32m----> 1\u001b[0m \u001b[39mimport\u001b[39;00m \u001b[39mopensim\u001b[39;00m\n\u001b[0;32m      2\u001b[0m v \u001b[39m=\u001b[39m opensim\u001b[39m.\u001b[39mVector([\u001b[39m6\u001b[39m, \u001b[39m7\u001b[39m, \u001b[39m8\u001b[39m, \u001b[39m9\u001b[39m])\n\u001b[0;32m      3\u001b[0m rv \u001b[39m=\u001b[39m opensim\u001b[39m.\u001b[39mRowVector([\u001b[39m1\u001b[39m, \u001b[39m2\u001b[39m, \u001b[39m5\u001b[39m])\n",
      "File \u001b[1;32mC:\\OpenSim 4.4\\sdk\\Python\\opensim\\__init__.py:9\u001b[0m\n\u001b[0;32m      6\u001b[0m    \u001b[39melse\u001b[39;00m:\n\u001b[0;32m      7\u001b[0m       os\u001b[39m.\u001b[39madd_dll_directory(\u001b[39m'\u001b[39m\u001b[39mC:/OpenSim 4.4/bin\u001b[39m\u001b[39m'\u001b[39m)\n\u001b[1;32m----> 9\u001b[0m \u001b[39mfrom\u001b[39;00m \u001b[39m.\u001b[39;00m\u001b[39msimbody\u001b[39;00m \u001b[39mimport\u001b[39;00m \u001b[39m*\u001b[39m\n\u001b[0;32m     10\u001b[0m \u001b[39mfrom\u001b[39;00m \u001b[39m.\u001b[39;00m\u001b[39mcommon\u001b[39;00m \u001b[39mimport\u001b[39;00m \u001b[39m*\u001b[39m\n\u001b[0;32m     11\u001b[0m \u001b[39mfrom\u001b[39;00m \u001b[39m.\u001b[39;00m\u001b[39msimulation\u001b[39;00m \u001b[39mimport\u001b[39;00m \u001b[39m*\u001b[39m\n",
      "File \u001b[1;32mC:\\OpenSim 4.4\\sdk\\Python\\opensim\\simbody.py:13\u001b[0m\n\u001b[0;32m     11\u001b[0m \u001b[39m# Import the low-level C/C++ module\u001b[39;00m\n\u001b[0;32m     12\u001b[0m \u001b[39mif\u001b[39;00m __package__ \u001b[39mor\u001b[39;00m \u001b[39m\"\u001b[39m\u001b[39m.\u001b[39m\u001b[39m\"\u001b[39m \u001b[39min\u001b[39;00m \u001b[39m__name__\u001b[39m:\n\u001b[1;32m---> 13\u001b[0m     \u001b[39mfrom\u001b[39;00m \u001b[39m.\u001b[39;00m \u001b[39mimport\u001b[39;00m _simbody\n\u001b[0;32m     14\u001b[0m \u001b[39melse\u001b[39;00m:\n\u001b[0;32m     15\u001b[0m     \u001b[39mimport\u001b[39;00m \u001b[39m_simbody\u001b[39;00m\n",
      "\u001b[1;31mImportError\u001b[0m: DLL load failed while importing _simbody: The specified module could not be found."
     ]
    }
   ],
   "source": [
    "import opensim\n",
    "v = opensim.Vector([6, 7, 8, 9])\n",
    "rv = opensim.RowVector([1, 2, 5])"
   ]
  }
 ],
 "metadata": {
  "kernelspec": {
   "display_name": "Python 3.10.8 64-bit",
   "language": "python",
   "name": "python3"
  },
  "language_info": {
   "codemirror_mode": {
    "name": "ipython",
    "version": 3
   },
   "file_extension": ".py",
   "mimetype": "text/x-python",
   "name": "python",
   "nbconvert_exporter": "python",
   "pygments_lexer": "ipython3",
   "version": "3.10.8"
  },
  "orig_nbformat": 4,
  "vscode": {
   "interpreter": {
    "hash": "ff6112af49b3833da0490db166f9d223de76c8696f7aa6ddf799f267add999df"
   }
  }
 },
 "nbformat": 4,
 "nbformat_minor": 2
}
