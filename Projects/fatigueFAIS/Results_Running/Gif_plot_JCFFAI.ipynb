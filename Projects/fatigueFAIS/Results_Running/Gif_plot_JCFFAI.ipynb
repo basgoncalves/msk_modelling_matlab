{
 "cells": [
  {
   "cell_type": "code",
   "execution_count": 1,
   "metadata": {},
   "outputs": [],
   "source": [
    "import subprocess\n",
    "import sys\n",
    "import os\n",
    "try:\n",
    "    import numpy as np\n",
    "except: \n",
    "    subprocess.check_call([sys.executable, \"-m\", \"pip\", \"install\", \"numpy\"])\n",
    "    import numpy as np\n",
    "\n",
    "# import matplotlib.pyplot as plt"
   ]
  },
  {
   "cell_type": "code",
   "execution_count": null,
   "metadata": {},
   "outputs": [],
   "source": [
    "from pip import _internal\n",
    "\n",
    "a = _internal.main(['freeze'])\n",
    "# print(a)"
   ]
  },
  {
   "cell_type": "code",
   "execution_count": 31,
   "metadata": {},
   "outputs": [
    {
     "name": "stdout",
     "output_type": "stream",
     "text": [
      "['asttokens==2.0.8', 'backcall==0.2.0', 'colorama==0.4.6', 'debugpy==1.6.3', 'decorator==5.1.1', 'entrypoints==0.4', 'executing==1.1.1', 'ipykernel==6.16.1', 'ipython==8.5.0', 'jedi==0.18.1', 'jupyter-client==7.4.4', 'jupyter-core==4.11.2', 'matplotlib-inline==0.1.6', 'nest-asyncio==1.5.6', 'packaging==21.3', 'parso==0.8.3', 'pickleshare==0.7.5', 'pip==22.2.2', 'prompt-toolkit==3.0.31', 'psutil==5.9.3', 'pure-eval==0.2.2', 'pygments==2.13.0', 'pyparsing==3.0.9', 'python-dateutil==2.8.2', 'pywin32==304', 'pyzmq==24.0.1', 'setuptools==63.2.0', 'six==1.16.0', 'stack-data==0.5.1', 'tornado==6.2', 'traitlets==5.5.0', 'wcwidth==0.2.5']\n"
     ]
    },
    {
     "data": {
      "text/plain": [
       "True"
      ]
     },
     "execution_count": 31,
     "metadata": {},
     "output_type": "execute_result"
    }
   ],
   "source": [
    "from operator import contains\n",
    "import pkg_resources\n",
    "installed_packages = pkg_resources.working_set\n",
    "installed_packages_list = sorted([\"%s==%s\" % (i.key, i.version) for i in installed_packages])\n",
    "print(installed_packages_list)\n",
    "\n",
    "any(\"matplotlib\" in s for s in installed_packages_list)\n"
   ]
  }
 ],
 "metadata": {
  "kernelspec": {
   "display_name": "Python 3.10.8 64-bit",
   "language": "python",
   "name": "python3"
  },
  "language_info": {
   "codemirror_mode": {
    "name": "ipython",
    "version": 3
   },
   "file_extension": ".py",
   "mimetype": "text/x-python",
   "name": "python",
   "nbconvert_exporter": "python",
   "pygments_lexer": "ipython3",
   "version": "3.10.8"
  },
  "orig_nbformat": 4,
  "vscode": {
   "interpreter": {
    "hash": "ff6112af49b3833da0490db166f9d223de76c8696f7aa6ddf799f267add999df"
   }
  }
 },
 "nbformat": 4,
 "nbformat_minor": 2
}
